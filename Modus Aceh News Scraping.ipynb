{
 "cells": [
  {
   "cell_type": "code",
   "execution_count": 1,
   "id": "e3fc46f7",
   "metadata": {},
   "outputs": [],
   "source": [
    "import requests\n",
    "from bs4 import BeautifulSoup\n",
    "from requests_html import HTMLSession\n",
    "import pandas as pd\n",
    "import csv"
   ]
  },
  {
   "cell_type": "code",
   "execution_count": 2,
   "id": "1af48585",
   "metadata": {},
   "outputs": [],
   "source": [
    "url = 'https://modusaceh.co/category/aceh/index1.html'\n",
    "r=requests.get(url)\n",
    "soup=BeautifulSoup(r.content, \"lxml\")"
   ]
  },
  {
   "cell_type": "code",
   "execution_count": 3,
   "id": "4b2f8739",
   "metadata": {},
   "outputs": [
    {
     "name": "stdout",
     "output_type": "stream",
     "text": [
      "<!DOCTYPE html>\n",
      "<!--[if lt IE 7]><html class=\"no-js lt-ie9 lt-ie8 lt-ie7\" xmlns=\"http://www.w3.org/1999/xhtml\" xmlns:og=\"http://ogp.me/ns#\" xmlns:fb=\"http://www.facebook.com/2008/fbml\"><![endif]--><!--[if (IE 7)&!(IEMobile)]><html class=\"no-js lt-ie9 lt-ie8\" xmlns=\"http://www.w3.org/1999/xhtml\" xmlns:og=\"http://ogp.me/ns#\" xmlns:fb=\"http://www.facebook.com/2008/fbml\"><![endif]--><!--[if (IE 8)&!(IEMobile)]><html class=\"no-js lt-ie9\" xmlns=\"http://www.w3.org/1999/xhtml\" xmlns:og=\"http://ogp.me/ns#\" xmlns:fb=\"http://www.facebook.com/2008/fbml\"><![endif]--><!--[if gt IE 8]><!--><html class=\"no-js\" xmlns=\"http://www.w3.org/1999/xhtml\" xmlns:fb=\"http://www.facebook.com/2008/fbml\" xmlns:og=\"http://ogp.me/ns#\"> <!--<![endif]--> <head> <meta charset=\"utf-8\"/> <meta content=\"id-ID\" http-equiv=\"content-language\"/> <meta content=\"900\" http-equiv=\"refresh\"/><meta content=\"true\" name=\"HandheldFriendly\"/> <meta content=\"yes\" name=\"apple-mobile-web-app-capable\"/> <meta content=\"width=1024\" name=\"viewport\"/> <meta content=\"index, follow\" name=\"robots\"/><base href=\"https://modusaceh.co/\"/> <meta content=\"FiqaEDcpZFWhyiiHgdHnwjP6yCO2DjuTbALwc1ilgBQ\" name=\"google-site-verification\"/> <title>Aceh - Rubrik - MODUS ACEH - Bijak Tanpa Memihak</title><meta content=\"#ED3237\" name=\"theme-color\"/> <meta content=\"Kelompok media Tabloid MODUS ACEH dan Majalah INSPIRATOR\" name=\"description\"/> <meta content=\"berita aceh, modus aceh, modus online, gempa aceh, news aceh, berita aceh terkini, modusaceh, aceh terkini, aceh hari ini, media aceh, media online aceh, berita online aceh, tabloid modus aceh\" name=\"keywords\"/> <meta content=\"MODUSACEH.CO\" name=\"author\"/> <meta content=\"id_ID\" property=\"og:locale\"/> <meta content=\"329516220907429\" property=\"fb:app_id\"/> <meta content=\"website\" property=\"og:type\"/> <meta content=\"MODUSACEH.CO\" property=\"og:site_name\"/> <meta content=\"Aceh - Rubrik - MODUS ACEH - Bijak Tanpa Memihak\" property=\"og:title\"/> <meta content=\"https://modusaceh.co/category/aceh/index1.html\" property=\"og:url\"/> <meta content=\"Kelompok media Tabloid MODUS ACEH dan Majalah INSPIRATOR\" property=\"og:description\"/> <meta content=\"https://modusaceh.co/imgs/logo-circle.png\" property=\"og:image\"/> <meta content=\"https://www.facebook.com/MODUSACEH.CO\" property=\"article:author\"/> <meta content=\"https://www.facebook.com/MODUSACEH.CO\" property=\"article:publisher\"/> <meta content=\"233775180502662\" property=\"fb:pages\"/> <meta content=\"summary_large_image\" name=\"twitter:card\"/> <meta content=\"https://modusaceh.co/category/aceh/index1.html\" name=\"twitter:url\"/> <meta content=\"Aceh - Rubrik - MODUS ACEH - Bijak Tanpa Memihak\" name=\"twitter:title\"/> <meta content=\"Kelompok media Tabloid MODUS ACEH dan Majalah INSPIRATOR\" name=\"twitter:description\"/> <meta content=\"https://modusaceh.co/imgs/logo-circle.png\" name=\"twitter:image\"/> <meta content=\"Aceh - Rubrik - MODUS ACEH - Bijak Tanpa Memihak\" itemprop=\"name\"/> <meta content=\"Kelompok media Tabloid MODUS ACEH dan Majalah INSPIRATOR\" itemprop=\"description\"/> <meta content=\"https://modusaceh.co/imgs/logo-circle.png\" itemprop=\"image\"/> <link href=\"//modusaceh.co\" rel=\"dns-prefetch\"/> <link href=\"https://modusaceh.co/category/aceh/index1.html\" rel=\"canonical\"/> <link href=\"imgs/favicon.ico?new\" rel=\"icon\" type=\"image/x-icon\"/> <link href=\"imgs/favicon.ico?new\" rel=\"shortcut icon\" type=\"image/x-icon\"/> <link href=\"imgs/apple-touch-icon.png?new\" rel=\"apple-touch-icon\"/> <link href=\"imgs/apple-touch-icon-76x76.png\" rel=\"apple-touch-icon\" sizes=\"76x76\"/> <link href=\"imgs/apple-touch-icon-120x120.png\" rel=\"apple-touch-icon\" sizes=\"120x120\"/> <link href=\"imgs/apple-touch-icon-152x152.png\" rel=\"apple-touch-icon\" sizes=\"152x152\"/> <link href=\"styles/bootstrap/css/bootstrap.min.css\" rel=\"stylesheet\" type=\"text/css\"/> <link href=\"styles/ie10-viewport-bug-workaround.css\" rel=\"stylesheet\" type=\"text/css\"/> <link href=\"styles/fa4/css/font-awesome.min.css\" rel=\"stylesheet\" type=\"text/css\"/> <link href=\"//fonts.googleapis.com/css?family=Roboto:400,400i,700,700i&amp;display=swap\" rel=\"stylesheet\"/> <link href=\"//fonts.googleapis.com/css2?family=Montserrat&amp;display=swap\" rel=\"stylesheet\"/> <link href=\"styles/main.css\" rel=\"stylesheet\" type=\"text/css\"/> <link href=\"scripts/fancybox/jquery.fancybox.css\" rel=\"stylesheet\" type=\"text/css\"/> <link href=\"scripts/owl-carousel/owl.carousel.css\" rel=\"stylesheet\" type=\"text/css\"/> <link href=\"styles/template.css?rv0.5.4.2\" rel=\"stylesheet\" type=\"text/css\"/> <link href=\"styles/print.css?rv0.5.4.2\" media=\"print\" rel=\"stylesheet\" type=\"text/css\"/> <!--[if gte IE 9]><style type=\"text/css\">.gradient{filter:none;}</style><![endif]--> <link href=\"https://modusaceh.co/feed?ticket=turjeu1esxk\" rel=\"alternate\" title=\"MODUSACEH.CO » Feed\" type=\"application/rss+xml\"/> <link href=\"https://modusaceh.co/opensearch.xml\" rel=\"search\" title=\"MODUSACEH.CO Search\" type=\"application/opensearchdescription+xml\"/> <noscript><meta content=\"5; URL=https://modusaceh.co/error/javascript.html\" http-equiv=\"refresh\"/></noscript> <script src=\"https://ajax.googleapis.com/ajax/libs/jquery/1.12.4/jquery.min.js\" type=\"text/javascript\"></script> <script>window.jQuery||document.write('<script src=\"scripts/jquery.min.js\"><\\/script>')</script> <!--[if lt IE 9]> <script type=\"text/javascript\" src=\"scripts/html5shiv.min.js\"></script> <script type=\"text/javascript\" src=\"scripts/respond.min.js\"></script> <![endif]--> <script type=\"text/javascript\">\n",
      "(function(i,s,o,g,r,a,m){i['GoogleAnalyticsObject']=r;i[r]=i[r]||function(){\n",
      "(i[r].q=i[r].q||[]).push(arguments)},i[r].l=1*new Date();a=s.createElement(o),\n",
      "m=s.getElementsByTagName(o)[0];a.async=1;a.src=g;m.parentNode.insertBefore(a,m)\n",
      "})(window,document,'script','//www.google-analytics.com/analytics.js','ga');\n",
      "ga('create', 'UA-63187383-1', 'auto');ga('send', 'pageview');\n",
      "</script> <script async=\"\" src=\"//pagead2.googlesyndication.com/pagead/js/adsbygoogle.js\"></script> <script>(adsbygoogle = window.adsbygoogle || []).push({google_ad_client: \"ca-pub-2078884489208214\", enable_page_level_ads: true});</script> <script async=\"\" src=\"/cdn-cgi/challenge-platform/h/b/scripts/invisible.js\"></script></head> <body> <!--[if lt IE 8]> <p class=\"browserupgrade text-center\">Oopz! Anda menggunakan browser <strong>versi lama</strong>. Silahkan <a href=\"http://www.browsehappy.com/\">upgrade browser</a> Anda agar mendapatkan pengalaman baru.</p> <![endif]--> <div id=\"fb-root\"></div> <section class=\"toolbars\"> <div class=\"container\"> <div class=\"navbar-submenu\"> <div class=\"row\"> <div class=\"col-sm-9\"> <time datetime=\"2022-02-10\">Kamis, 10 Februari 2022</time> <a class=\"nav-spc\" href=\"https://modusaceh.co/tabloid/modus-aceh/index.html\" target=\"_blank\">Tabloid MODUS ACEH</a> <a class=\"nav-spc nav-new\" href=\"https://modusaceh.co/indepth/index.html\" target=\"_blank\">MODUS Indepth</a> </div> <div class=\"col-sm-3 text-right\"> <div class=\"search\"> <form action=\"https://modusaceh.co/search/\" class=\"form-horizontal\" method=\"get\"> <div class=\"input-group\"> <input class=\"form-control\" name=\"keyword\" placeholder=\"Cari di sini...\" required=\"\" size=\"28\" type=\"search\" value=\"\"/> <div class=\"input-group-btn\"> <button class=\"btn btn-default\" type=\"submit\"><i class=\"fa fa-search\"></i></button> </div> </div> </form> </div> </div> </div> </div> </div> </section> <header> <div class=\"container\"> <div class=\"navbar-header\"> <a class=\"navbar-brand\" href=\"https://modusaceh.co/\"> <img alt=\"MODUSACEH.CO\" src=\"imgs/logo.png\"/> </a> </div> </div> </header> <nav class=\"navbar navbar-default navbar-mdach\" id=\"main-menu\"> <div class=\"container\"> <div aria-expanded=\"false\" class=\"navbar-collapse collapse\" id=\"navbar\"> <ul class=\"nav navbar-nav navbar-right\" itemscope=\"\" itemtype=\"http://www.schema.org/SiteNavigationElement\"> <li itemprop=\"name\"><a class=\"\" href=\"https://modusaceh.co/\" itemprop=\"url\"><h3><i class=\"fa fa-home fa-lg\"></i></h3></a></li><li itemprop=\"name\"><a class=\"\" href=\"https://modusaceh.co/indepth/index.html\" itemprop=\"url\"><h3>MODUS Indepth</h3></a></li><li itemprop=\"name\"><a class=\"\" href=\"https://modusaceh.co/epaper/index.html\" itemprop=\"url\"><h3>E-Paper</h3></a></li><li itemprop=\"name\"><a href=\"https://modusaceh.co/category/info-pemko-sabang/index.html\" itemprop=\"url\"><h3>Info Pemko Sabang</h3></a></li><li itemprop=\"name\"><a href=\"https://modusaceh.co/category/liputan-khusus/index.html\" itemprop=\"url\"><h3>Liputan Khusus</h3></a></li><li itemprop=\"name\"><a href=\"https://modusaceh.co/category/pak-teungku/index.html\" itemprop=\"url\"><h3>Pak Teungku</h3></a></li><li itemprop=\"name\"><a href=\"https://modusaceh.co/category/podcast-sisi-lain/index.html\" itemprop=\"url\"><h3>Podcast SISI LAIN</h3></a></li><li class=\"active\" itemprop=\"name\"><a href=\"https://modusaceh.co/category/aceh/index.html\" itemprop=\"url\"><h3>Aceh</h3></a></li><li itemprop=\"name\"><a href=\"https://modusaceh.co/category/nasional/index.html\" itemprop=\"url\"><h3>Nasional</h3></a></li><li itemprop=\"name\"><a href=\"https://modusaceh.co/category/dunia/index.html\" itemprop=\"url\"><h3>Dunia</h3></a></li><li itemprop=\"name\"><a href=\"https://modusaceh.co/category/politik/index.html\" itemprop=\"url\"><h3>Politik</h3></a></li><li itemprop=\"name\"><a href=\"https://modusaceh.co/category/kabar-parlemen/index.html\" itemprop=\"url\"><h3>Kabar Parlemen</h3></a></li><li itemprop=\"name\"><a href=\"https://modusaceh.co/category/hukum-kriminal/index.html\" itemprop=\"url\"><h3>Hukum/Kriminal</h3></a></li><li itemprop=\"name\"><a href=\"https://modusaceh.co/category/ekbis/index.html\" itemprop=\"url\"><h3>Ekbis</h3></a></li><li itemprop=\"name\"><a href=\"https://modusaceh.co/category/modus-tv/index.html\" itemprop=\"url\"><h3>MODUS TV</h3></a></li><li itemprop=\"name\"><a href=\"https://modusaceh.co/category/olahraga/index.html\" itemprop=\"url\"><h3>Olahraga</h3></a></li><li itemprop=\"name\"><a href=\"https://modusaceh.co/category/rehat/index.html\" itemprop=\"url\"><h3>Rehat</h3></a></li><li itemprop=\"name\"><a href=\"https://modusaceh.co/category/wawancara/index.html\" itemprop=\"url\"><h3>Wawancara</h3></a></li><li itemprop=\"name\"><a href=\"https://modusaceh.co/category/haba-ulee-kareng/index.html\" itemprop=\"url\"><h3>Haba Ulee Kareng</h3></a></li><li itemprop=\"name\"><a href=\"https://modusaceh.co/category/advertorial/index.html\" itemprop=\"url\"><h3>Advertorial</h3></a></li><li itemprop=\"name\"><a href=\"https://modusaceh.co/category/opini/index.html\" itemprop=\"url\"><h3>Opini</h3></a></li><li itemprop=\"name\"><a href=\"https://modusaceh.co/news/index.html\" itemprop=\"url\"><h3>Indeks</h3></a></li><li class=\"hide dropdown nav-more\"><a aria-expanded=\"false\" class=\"dropdown-toggle\" data-hover=\"dropdown\" data-toggle=\"dropdown\" href=\"#\" role=\"button\"><i class=\"fa fa-angle-down fa-lg\"></i></a><ul class=\"dropdown-menu\" role=\"menu\"></ul></li> </ul> </div> </div> </nav> <section class=\"special-image container\"> <div class=\"funds\"><script async=\"\" src=\"https://pagead2.googlesyndication.com/pagead/js/adsbygoogle.js\"></script> <ins class=\"adsbygoogle\" data-ad-client=\"ca-pub-2078884489208214\" data-ad-format=\"fluid\" data-ad-layout-key=\"-ef+6k-30-ac+ty\" data-ad-slot=\"1469334119\" style=\"display:block\"></ins> <script>\r\n",
      "     (adsbygoogle = window.adsbygoogle || []).push({});\r\n",
      "</script></div></section> <section class=\"breadcrumbs container\"> <ol class=\"breadcrumb\" itemprop=\"breadcrumb\"><li itemprop=\"name\"><a href=\"https://modusaceh.co/\" itemprop=\"url\">Beranda</a></li><li itemprop=\"name\"><a href=\"https://modusaceh.co/category/index.html\" itemprop=\"url\">Rubrik</a></li><li class=\"active\">Aceh</li></ol></section> <section class=\"container\"> <div class=\"row\"> <div class=\"col-sm-8\"> <div class=\"subhead category\"><h2><span>Aceh</span></h2></div> <article itemscope=\"\" itemtype=\"http://schema.org/Article\"> <div class=\"row\"> <div class=\"col-xs-12 figure\"> <a class=\"image\" href=\"https://modusaceh.co/news/usk-anugrahi-wali-nanggroe-sebagai-tokoh-perdamaian/index.html\"> <img alt=\"USK Anugrahi Wali Nanggroe Sebagai Tokoh Perdamaian\" itemprop=\"image\" src=\"https://modusaceh.co/files/cache/20220210-51c867f2-cd06-4b2a-9d39-44ab84e54d39-images-560x380.jpg\"/> </a> </div> <div class=\"col-xs-12 summary\"> <div class=\"big\"> <hgroup itemprop=\"name\"> <a href=\"https://modusaceh.co/news/usk-anugrahi-wali-nanggroe-sebagai-tokoh-perdamaian/index.html\" rel=\"bookmark\"> <h5>USK Anugrahi Wali Nanggroe Sebagai Tokoh Perdamaian</h5> </a> </hgroup> <p itemprop=\"description\">Banda Aceh | Prosesi wisuda Universitas Syiah Kuala (USK) ke-152 menghadirkan sisi berbeda. Universitas dengan julukan Jantong Ate Rakyat Aceh ini, menganugrahkan penghargaan kepada Paduka...</p> <div class=\"meta-post\"> <time datetime=\"2022-02-10 15:15:07\" itemprop=\"datePublished\" pubdate=\"2022-02-10 15:15:07\"> <i class=\"fa fa-clock-o\"></i> 15:15 WIB, 10 Februari 2022 </time> </div> </div> </div> </div> </article> <article itemscope=\"\" itemtype=\"http://schema.org/Article\"> <div class=\"row\"> <div class=\"col-sm-4 figure\"> <a class=\"image\" href=\"https://modusaceh.co/news/empat-kapolres-di-aceh-diganti/index.html\"> <img alt=\"Empat Kapolres di Aceh Diganti\" itemprop=\"image\" src=\"https://modusaceh.co/files/cache/20220210-salami-kapolres-polda-aceh-images-300x200.jpg\"/> </a> </div> <div class=\"col-sm-8 summary\"> <hgroup itemprop=\"name\"> <a href=\"https://modusaceh.co/news/empat-kapolres-di-aceh-diganti/index.html\" rel=\"bookmark\"> <h5>Empat Kapolres di Aceh Diganti</h5> </a> </hgroup> <p itemprop=\"description\">Banda Aceh | Empat kepala kepolisian resor (Kapolres) jajaran Polda Aceh diganti yang...</p> <div class=\"meta-post\"> <time datetime=\"2022-02-10 13:24:16\" itemprop=\"datePublished\" pubdate=\"2022-02-10 13:24:16\"> <i class=\"fa fa-clock-o\"></i> 13:24 WIB, 10 Februari 2022 </time> </div> </div> </div> </article> <article itemscope=\"\" itemtype=\"http://schema.org/Article\"> <div class=\"row\"> <div class=\"col-sm-4 figure\"> <a class=\"image\" href=\"https://modusaceh.co/news/antar-sabu-ke-anaknya-di-penjara-emak-emak-di-langsa-diamankan/index.html\"> <img alt=\"Antar Sabu ke Anaknya di Penjara, Emak-emak di Langsa Diamankan\" itemprop=\"image\" src=\"https://modusaceh.co/files/cache/20220210-antar-sabu-ke-anaknya-di-penjara-emak-emak-di-aceh-ditangkap-dok-polres-langsa-169-images-300x200.jpeg\"/> </a> </div> <div class=\"col-sm-8 summary\"> <hgroup itemprop=\"name\"> <a href=\"https://modusaceh.co/news/antar-sabu-ke-anaknya-di-penjara-emak-emak-di-langsa-diamankan/index.html\" rel=\"bookmark\"> <h5>Antar Sabu ke Anaknya di Penjara, Emak-emak di Langsa Diamankan</h5> </a> </hgroup> <p itemprop=\"description\">Langsa | Seorang perempuan di Langsa, Aceh, NL (46), ditangkap penjaga penjara karena...</p> <div class=\"meta-post\"> <time datetime=\"2022-02-10 12:50:39\" itemprop=\"datePublished\" pubdate=\"2022-02-10 12:50:39\"> <i class=\"fa fa-clock-o\"></i> 12:50 WIB, 10 Februari 2022 </time> </div> </div> </div> </article> <article itemscope=\"\" itemtype=\"http://schema.org/Article\"> <div class=\"row\"> <div class=\"col-sm-4 figure\"> <a class=\"image\" href=\"https://modusaceh.co/news/partai-demokrat-aceh-tetapkan-13-calon-ketua-dpc/index.html\"> <img alt=\"Partai Demokrat Aceh Tetapkan 13 Calon Ketua DPC\" itemprop=\"image\" src=\"https://modusaceh.co/files/cache/20220210-img-20220209-wa0014-images-300x200.jpg\"/> </a> </div> <div class=\"col-sm-8 summary\"> <hgroup itemprop=\"name\"> <a href=\"https://modusaceh.co/news/partai-demokrat-aceh-tetapkan-13-calon-ketua-dpc/index.html\" rel=\"bookmark\"> <h6>Muscab Serantak Gelombang Pertama</h6> <h5>Partai Demokrat Aceh Tetapkan 13 Calon Ketua DPC</h5> </a> </hgroup> <p itemprop=\"description\">Banda Aceh | Musyawarah Cabang (Muscab) Partai Demokrat Aceh serentak gelombang pertama...</p> <div class=\"meta-post\"> <time datetime=\"2022-02-10 09:55:42\" itemprop=\"datePublished\" pubdate=\"2022-02-10 09:55:42\"> <i class=\"fa fa-clock-o\"></i> 09:55 WIB, 10 Februari 2022 </time> </div> </div> </div> </article> <article itemscope=\"\" itemtype=\"http://schema.org/Article\"> <div class=\"row\"> <div class=\"col-sm-4 figure\"> <a class=\"image\" href=\"https://modusaceh.co/news/dalimi-saya-patuh-atas-keputusan-pimpinan/index.html\"> <img alt=\"Dalimi: Saya Patuh Atas Keputusan Pimpinan\" itemprop=\"image\" src=\"https://modusaceh.co/files/cache/20220209-img-20220209-wa0023-images-300x200.jpg\"/> </a> </div> <div class=\"col-sm-8 summary\"> <hgroup itemprop=\"name\"> <a href=\"https://modusaceh.co/news/dalimi-saya-patuh-atas-keputusan-pimpinan/index.html\" rel=\"bookmark\"> <h6>Dicopot dari Pimpinan DPR Aceh</h6> <h5>Dalimi: Saya Patuh Atas Keputusan Pimpinan</h5> </a> </hgroup> <p itemprop=\"description\">Banda Aceh | Anggota Dewan Perwakilan Rakyat (DPR) Aceh Fraksi Partai Demokrat, Dalimi,...</p> <div class=\"meta-post\"> <time datetime=\"2022-02-09 17:39:56\" itemprop=\"datePublished\" pubdate=\"2022-02-09 17:39:56\"> <i class=\"fa fa-clock-o\"></i> 17:39 WIB, 09 Februari 2022 </time> </div> </div> </div> </article> <article itemscope=\"\" itemtype=\"http://schema.org/Article\"> <div class=\"row\"> <div class=\"col-sm-4 figure\"> <a class=\"image\" href=\"https://modusaceh.co/news/upah-belum-dibayar-pt-hk-buruh-proyek-unimal-mogok-kerja/index.html\"> <img alt=\"Upah Belum Dibayar PT. HK, Buruh Proyek Unimal Mogok Kerja\" itemprop=\"image\" src=\"https://modusaceh.co/files/cache/20220209-img-20211201-wa0019-images-300x200.jpg\"/> </a> </div> <div class=\"col-sm-8 summary\"> <hgroup itemprop=\"name\"> <a href=\"https://modusaceh.co/news/upah-belum-dibayar-pt-hk-buruh-proyek-unimal-mogok-kerja/index.html\" rel=\"bookmark\"> <h5>Upah Belum Dibayar PT. HK, Buruh Proyek Unimal Mogok Kerja</h5> </a> </hgroup> <p itemprop=\"description\">Lhokseumawe | Karena sudah lama bekerja, namun belum juga dibayar upah oleh PT. Hutama...</p> <div class=\"meta-post\"> <time datetime=\"2022-02-09 14:38:11\" itemprop=\"datePublished\" pubdate=\"2022-02-09 14:38:11\"> <i class=\"fa fa-clock-o\"></i> 14:38 WIB, 09 Februari 2022 </time> </div> </div> </div> </article> <article itemscope=\"\" itemtype=\"http://schema.org/Article\"> <div class=\"row\"> <div class=\"col-sm-4 figure\"> <a class=\"image\" href=\"https://modusaceh.co/news/muslim-ingatkan-kader-untuk-siap-menangkan-pemilu-2024/index.html\"> <img alt=\"Muslim Ingatkan Kader Untuk Siap Menangkan Pemilu 2024\" itemprop=\"image\" src=\"https://modusaceh.co/files/cache/20220209-2dab15cc-d69e-49e1-890d-9c599c3f345f-images-300x200.jpg\"/> </a> </div> <div class=\"col-sm-8 summary\"> <hgroup itemprop=\"name\"> <a href=\"https://modusaceh.co/news/muslim-ingatkan-kader-untuk-siap-menangkan-pemilu-2024/index.html\" rel=\"bookmark\"> <h6>Buka Muscab 13 DPC Partai Demokrat Aceh</h6> <h5>Muslim Ingatkan Kader Untuk Siap Menangkan Pemilu 2024</h5> </a> </hgroup> <p itemprop=\"description\">Banda Aceh | Ketua Umum Dewan Pimpinanan Daerah (DPD) Partai Demokrat Aceh, Muslim, SHI.,...</p> <div class=\"meta-post\"> <time datetime=\"2022-02-09 13:42:51\" itemprop=\"datePublished\" pubdate=\"2022-02-09 13:42:51\"> <i class=\"fa fa-clock-o\"></i> 13:42 WIB, 09 Februari 2022 </time> </div> </div> </div> </article> <article itemscope=\"\" itemtype=\"http://schema.org/Article\"> <div class=\"row\"> <div class=\"col-sm-4 figure\"> <a class=\"image\" href=\"https://modusaceh.co/news/gemuruh-ahy-presiden-warnai-pembukaan-muscab-demokrat-aceh/index.html\"> <img alt='Gemuruh \"AHY Presiden\" Warnai Pembukaan Muscab Demokrat Aceh' itemprop=\"image\" src=\"https://modusaceh.co/files/cache/20220209-e834582d-4b8c-45f2-bf29-97e0df692ff3-images-300x200.jpg\"/> </a> </div> <div class=\"col-sm-8 summary\"> <hgroup itemprop=\"name\"> <a href=\"https://modusaceh.co/news/gemuruh-ahy-presiden-warnai-pembukaan-muscab-demokrat-aceh/index.html\" rel=\"bookmark\"> <h5>Gemuruh \"AHY Presiden\" Warnai Pembukaan Muscab Demokrat Aceh</h5> </a> </hgroup> <p itemprop=\"description\">Banda Aceh | Pelaksanaan Musyawarah 13 Dewan Pimpinan Cabang Partai Demokrat Aceh...</p> <div class=\"meta-post\"> <time datetime=\"2022-02-09 12:53:22\" itemprop=\"datePublished\" pubdate=\"2022-02-09 12:53:22\"> <i class=\"fa fa-clock-o\"></i> 12:53 WIB, 09 Februari 2022 </time> </div> </div> </div> </article> <article itemscope=\"\" itemtype=\"http://schema.org/Article\"> <div class=\"row\"> <div class=\"col-sm-4 figure\"> <a class=\"image\" href=\"https://modusaceh.co/news/puluhan-mahasiswa-terpapar-corona-usk-aceh-kembali-terapkan-kuliah-daring/index.html\"> <img alt=\"Puluhan Mahasiswa Terpapar Corona, USK Aceh Kembali Terapkan Kuliah Daring\" itemprop=\"image\" src=\"https://modusaceh.co/files/cache/20220209-usk-aceh-images-300x200.jpg\"/> </a> </div> <div class=\"col-sm-8 summary\"> <hgroup itemprop=\"name\"> <a href=\"https://modusaceh.co/news/puluhan-mahasiswa-terpapar-corona-usk-aceh-kembali-terapkan-kuliah-daring/index.html\" rel=\"bookmark\"> <h5>Puluhan Mahasiswa Terpapar Corona, USK Aceh Kembali Terapkan Kuliah Daring</h5> </a> </hgroup> <p itemprop=\"description\">Banda Aceh | Puluhan mahasiswa Universitas Syiah Kuala (USK) Aceh dinyatakan terpapar...</p> <div class=\"meta-post\"> <time datetime=\"2022-02-09 12:39:10\" itemprop=\"datePublished\" pubdate=\"2022-02-09 12:39:10\"> <i class=\"fa fa-clock-o\"></i> 12:39 WIB, 09 Februari 2022 </time> </div> </div> </div> </article> <article itemscope=\"\" itemtype=\"http://schema.org/Article\"> <div class=\"row\"> <div class=\"col-sm-4 figure\"> <a class=\"image\" href=\"https://modusaceh.co/news/polda-aceh-serahkan-tersangka-kasus-pengadaan-sapi-disnak-aceh/index.html\"> <img alt=\"Polda Aceh Serahkan Tersangka Kasus Pengadaan Sapi Disnak Aceh ke Kejari Jantho\" itemprop=\"image\" src=\"https://modusaceh.co/files/cache/20220208-sapi1-images-300x200.jpg\"/> </a> </div> <div class=\"col-sm-8 summary\"> <hgroup itemprop=\"name\"> <a href=\"https://modusaceh.co/news/polda-aceh-serahkan-tersangka-kasus-pengadaan-sapi-disnak-aceh/index.html\" rel=\"bookmark\"> <h5>Polda Aceh Serahkan Tersangka Kasus Pengadaan Sapi Disnak Aceh ke Kejari Jantho</h5> </a> </hgroup> <p itemprop=\"description\">Banda Aceh I Hari ini, Selasa, 8 Februari 2022. Tim Penyidik Polda Aceh menyerahkan dua...</p> <div class=\"meta-post\"> <time datetime=\"2022-02-08 18:23:03\" itemprop=\"datePublished\" pubdate=\"2022-02-08 18:23:03\"> <i class=\"fa fa-clock-o\"></i> 18:23 WIB, 08 Februari 2022 </time> </div> </div> </div> </article> <div class=\"pages text-center\"><nav><ul class=\"pagination\"><li class=\"disabled hidden-xs\"><span><i class=\"fa fa-angle-double-left fa-lg\"></i></span></li><li class=\"active\"><span>1</span></li><li><a href=\"https://modusaceh.co/category/aceh/index2.html\" rel=\"next\">2</a></li><li><a href=\"https://modusaceh.co/category/aceh/index3.html\" rel=\"next\">3</a></li><li><a href=\"https://modusaceh.co/category/aceh/index4.html\" rel=\"next\">4</a></li><li><a href=\"https://modusaceh.co/category/aceh/index5.html\" rel=\"next\">5</a></li><li class=\"disabled\"><span> ... </span></li><li><a class=\"hidden-xs\" href=\"https://modusaceh.co/category/aceh/index2.html\" rel=\"next\" title=\"Selanjutnya\"><i class=\"fa fa-angle-right fa-lg\"></i></a></li><li><a class=\"hidden-xs\" href=\"https://modusaceh.co/category/aceh/index1124.html\" rel=\"next\" title=\"Terakhir\"><i class=\"fa fa-angle-double-right fa-lg\"></i></a></li></ul></nav></div> </div> <div class=\"col-sm-4 sidebar\"> <div class=\"stacking\"> <aside> <div class=\"section-box box-default\"><h4>Berita Populer</h4><div class=\"box-content\"><ul class=\"list-unstyled\"><li class=\"list-thumb\"><div class=\"row tbl\"><div class=\"col-xs-4 padding-r5 cl\"><a class=\"news\" href=\"https://modusaceh.co/news/polda-aceh-serahkan-tersangka-kasus-pengadaan-sapi-disnak-aceh/index.html\"><img alt=\"Polda Aceh Serahkan Tersangka Kasus Pengadaan Sapi Disnak Aceh ke Kejari Jantho\" src=\"https://modusaceh.co/files/cache/20220208-sapi1-images-230x180.jpg\"/></a></div><div class=\"col-xs-8 padding-l5 cl\"><a href=\"https://modusaceh.co/news/polda-aceh-serahkan-tersangka-kasus-pengadaan-sapi-disnak-aceh/index.html\"><h5>Polda Aceh Serahkan Tersangka Kasus Pengadaan Sapi Disnak Aceh ke Kejari Jantho</h5></a></div></div></li><li class=\"list-thumb\"><div class=\"row tbl\"><div class=\"col-xs-4 padding-r5 cl\"><a class=\"news\" href=\"https://modusaceh.co/news/lima-tahun-rekanan-menanti-pembayaran-dari-direktur-rsj-banda-aceh/index.html\"><img alt=\"Lima Tahun Direktur RSJ Banda Aceh tak Bayar Pengadaan Rekanan\" src=\"https://modusaceh.co/files/cache/20220208-epi-images-230x180.jpg\"/></a></div><div class=\"col-xs-8 padding-l5 cl\"><a href=\"https://modusaceh.co/news/lima-tahun-rekanan-menanti-pembayaran-dari-direktur-rsj-banda-aceh/index.html\"><h5><span>Dari Berharap Hingga Putusan Pengadilan</span>Lima Tahun Direktur RSJ Banda Aceh tak Bayar Pengadaan Rekanan</h5></a></div></div></li><li class=\"list-thumb\"><div class=\"row tbl\"><div class=\"col-xs-4 padding-r5 cl\"><a class=\"news\" href=\"https://modusaceh.co/news/dalimi-saya-patuh-atas-keputusan-pimpinan/index.html\"><img alt=\"Dalimi: Saya Patuh Atas Keputusan Pimpinan\" src=\"https://modusaceh.co/files/cache/20220209-img-20220209-wa0023-images-230x180.jpg\"/></a></div><div class=\"col-xs-8 padding-l5 cl\"><a href=\"https://modusaceh.co/news/dalimi-saya-patuh-atas-keputusan-pimpinan/index.html\"><h5><span>Dicopot dari Pimpinan DPR Aceh</span>Dalimi: Saya Patuh Atas Keputusan Pimpinan</h5></a></div></div></li><li class=\"list-thumb\"><div class=\"row tbl\"><div class=\"col-xs-4 padding-r5 cl\"><a class=\"news\" href=\"https://modusaceh.co/news/teuku-puteh-kembali-terpilih-aklamasi-ketua-mpw-pp-aceh-periode-2022-2027/index.html\"><img alt=\"Teuku Puteh Kembali Terpilih Aklamasi Ketua MPW PP Aceh Periode 2022-2027\" src=\"https://modusaceh.co/files/cache/20220208-fce047c1-7fa0-47bc-8f75-f35f45b34889-images-230x180.jpg\"/></a></div><div class=\"col-xs-8 padding-l5 cl\"><a href=\"https://modusaceh.co/news/teuku-puteh-kembali-terpilih-aklamasi-ketua-mpw-pp-aceh-periode-2022-2027/index.html\"><h5><span>Muswil IX Pemuda Pancasila Aceh 2022</span>Teuku Puteh Kembali Terpilih Aklamasi Ketua MPW PP Aceh Periode 2022-2027</h5></a></div></div></li><li class=\"list-thumb\"><div class=\"row tbl\"><div class=\"col-xs-4 padding-r5 cl\"><a class=\"news\" href=\"https://modusaceh.co/news/nova-dan-taqwallah-dituding-penyebab-gagalnya-pengentasan-kemiskinan-di-aceh/index.html\"><img alt=\"Nova dan Taqwallah Dituding Penyebab Gagalnya Pengentasan Kemiskinan di Aceh\" src=\"https://modusaceh.co/files/cache/20220208-d3d8118c-34cf-4601-8d01-c634af449aa2-images-230x180.jpg\"/></a></div><div class=\"col-xs-8 padding-l5 cl\"><a href=\"https://modusaceh.co/news/nova-dan-taqwallah-dituding-penyebab-gagalnya-pengentasan-kemiskinan-di-aceh/index.html\"><h5><span>APAM Tuntut KPK Tetapkan Tersangka Korupsi</span>Nova dan Taqwallah Dituding Penyebab Gagalnya Pengentasan Kemiskinan di Aceh</h5></a></div></div></li><li class=\"list-thumb\"><div class=\"row tbl\"><div class=\"col-xs-4 padding-r5 cl\"><a class=\"news\" href=\"https://modusaceh.co/news/apa-jakarta-desak-kpk-umumkan-hasil-penyelidiakan-di-aceh/index.html\"><img alt=\"APA Jakarta Desak KPK Umumkan Hasil Penyelidikan di Aceh\" src=\"https://modusaceh.co/files/cache/20220207-c12c9043-475f-403f-ba41-c38321e2a758-images-230x180.jpg\"/></a></div><div class=\"col-xs-8 padding-l5 cl\"><a href=\"https://modusaceh.co/news/apa-jakarta-desak-kpk-umumkan-hasil-penyelidiakan-di-aceh/index.html\"><h5>APA Jakarta Desak KPK Umumkan Hasil Penyelidikan di Aceh</h5></a></div></div></li><li class=\"list-thumb\"><div class=\"row tbl\"><div class=\"col-xs-4 padding-r5 cl\"><a class=\"news\" href=\"https://modusaceh.co/news/wak-tar-hargai-pengabdian-dan-pengorbanan-laporkan-kader-bentuk-kriminalisasi/index.html\"><img alt=\"Wak Tar: Hargai Pengabdian dan Pengorbanan Kader, Laporan Polisi Bentuk Kriminalisasi  \" src=\"https://modusaceh.co/files/cache/20220208-wak-tar-images-230x180.jpg\"/></a></div><div class=\"col-xs-8 padding-l5 cl\"><a href=\"https://modusaceh.co/news/wak-tar-hargai-pengabdian-dan-pengorbanan-laporkan-kader-bentuk-kriminalisasi/index.html\"><h5><span>Buntut Kisruh PNA</span>Wak Tar: Hargai Pengabdian dan Pengorbanan Kader, Laporan Polisi Bentuk Kriminalisasi  </h5></a></div></div></li></ul></div></div> </aside> <aside> <div class=\"section-box\"> <div class=\"box-content\"> <div class=\"fb-page\" data-adapt-container-width=\"true\" data-height=\"100\" data-hide-cover=\"false\" data-href=\"https://www.facebook.com/MODUSACEH.CO\" data-show-facepile=\"true\" data-small-header=\"false\" data-tabs=\"timeline\"><div class=\"fb-xfbml-parse-ignore\"><blockquote cite=\"https://www.facebook.com/MODUSACEH.CO\"><a href=\"https://www.facebook.com/MODUSACEH.CO\">MODUSACEH.CO</a></blockquote></div></div> </div> </div> </aside> </div> </div> </div> </section> <footer> <div class=\"backtotop\"> <a class=\"hidden-print\" href=\"#\" id=\"btn-to-top\"><i class=\"fa fa-angle-up fa-lg\"></i> Kembali ke atas</a> </div> <div class=\"container\"> <div class=\"row\"> <div class=\"col-sm-4 about hidden-xs\"> <a class=\"logo\" href=\"https://modusaceh.co/\"> <img alt=\"MODUSACEH.CO\" src=\"https://modusaceh.co/imgs/logo.png\"/> </a> <h5>PT. Agsha Media Mandiri</h5> <p>Jl. T. Nyak Arief. Lorong HT. Thaib Aly No: 5, Lamgugop, Syiah Kuala, Banda Aceh, Provinsi Aceh</p> <ul class=\"list-unstyled list-inline connect\"> <li><a class=\"icon-twitter\" href=\"https://twitter.com/modusaceh\" target=\"_blank\" title=\"Twitter\"><span><i class=\"fa fa-twitter\"></i></span> modusaceh</a></li> <li><a class=\"icon-facebook\" href=\"https://www.facebook.com/MODUSACEH.CO\" target=\"_blank\" title=\"Facebook\"><span><i class=\"fa fa-facebook\"></i></span> MODUSACEH.CO</a></li> <li><a class=\"icon-rss\" href=\"https://modusaceh.co/feed?ticket=turjeu1esxk\" target=\"_blank\" title=\"RSS Feed\"><span><i class=\"fa fa-rss\"></i></span> RSS Feed</a></li> </ul> </div> <div class=\"col-sm-8 other\"> <div class=\"row\"> <div class=\"col-sm-4 hidden-xs\"> <h4><span>Tautan</span> Artikel</h4> <ul class=\"list-unstyled\"> <li><a href=\"https://modusaceh.co/news/index.html\">Indeks Berita</a></li><li><a href=\"https://modusaceh.co/epaper/index.html\">E-Paper</a></li><li><a href=\"https://modusaceh.co/redaksi.html\">Redaksi</a></li><li><a href=\"https://modusaceh.co/page/kode-etik-wartawan.html\">Kode Etik Wartawan</a></li><li><a href=\"https://modusaceh.co/page/standar-operasional-prosedur.html\">Standar Operasional Prosedur</a></li><li><a href=\"https://modusaceh.co/pedoman.html\">Pedoman Media Siber</a></li> </ul> </div> <div class=\"col-sm-3 hidden-xs\"> <h4><span>Tautan</span> Kami</h4> <ul class=\"list-unstyled\"> <li><a href=\"https://modusaceh.co/\">Beranda</a></li><li><a href=\"https://modusaceh.co/disclaimer.html\">Disclaimer</a></li><li><a href=\"https://modusaceh.co/iklan.html\">Periklanan</a></li><li><a href=\"https://modusaceh.co/karir.html\">Peluang Karir</a></li><li><a href=\"https://modusaceh.co/sitemap.html\">Peta Website</a></li><li><a href=\"https://modusaceh.co/kontak.html\">Hubungi Kami</a></li> </ul> </div> <div class=\"col-sm-5\"> <div class=\"info-ext info-kurs\"> <h4><span>Kurs</span> Mata Uang</h4> <div data-item=\"1\" data-single-item=\"true\" data-transition-style=\"goDown\" id=\"carousel-info\"></div> <span><i class=\"fa fa-circle-o-notch fa-spin\"></i> Loading...</span> <small></small> <div class=\"carousel-navigation\"> <a class=\"prev\" href=\"#\"><i class=\"fa fa-chevron-up\"></i></a> <a class=\"next\" href=\"#\"><i class=\"fa fa-chevron-down\"></i></a> </div> </div> <form action=\"https://modusaceh.co/search/\" class=\"form-inline search\" method=\"get\"> <div class=\"input-group\"> <input class=\"form-control\" name=\"keyword\" placeholder=\"Cari berita...\" required=\"\" size=\"12\" type=\"search\" value=\"\"/> <div class=\"input-group-btn\"> <button class=\"btn btn-warning\" type=\"submit\"><i class=\"fa fa-search\"></i></button> </div> </div> </form> </div> <div class=\"col-sm-6 visible-xs\"> <ul class=\"list-unstyled list-inline list-mobile\"> <li><a href=\"https://modusaceh.co/\">Beranda</a></li><li><a href=\"https://modusaceh.co/news/index.html\">Indeks Berita</a></li><li><a href=\"https://modusaceh.co/redaksi.html\">Redaksi</a></li><li><a href=\"https://modusaceh.co/disclaimer.html\">Disclaimer</a></li><li><a href=\"https://modusaceh.co/iklan.html\">Periklanan</a></li><li><a href=\"https://modusaceh.co/karir.html\">Peluang Karir</a></li><li><a href=\"https://modusaceh.co/pedoman.html\">Pedoman Media Siber</a></li><li><a href=\"https://modusaceh.co/kontak.html\">Hubungi Kami</a></li> </ul> </div> </div> </div> </div> <p class=\"copyright\">© 2016-2022 MODUSACEH.CO, <span>Powered by <a href=\"http://www.gampongit.com\" target=\"_blank\">GampongIT.com</a></span>.</p> </div> </footer> <script src=\"scripts/sticky-sidebar.min.js\" type=\"text/javascript\"></script> <script src=\"scripts/general.js?rv0.5.4.2\" type=\"text/javascript\"></script> <script src=\"scripts/fontloader.js\" type=\"text/javascript\"></script> <script src=\"scripts/bootstrap.min.js\" type=\"text/javascript\"></script> <script src=\"scripts/modernizr.min.js\" type=\"text/javascript\"></script> <script src=\"scripts/ie10vp-bs-hv-dpdw.js\" type=\"text/javascript\"></script> <script src=\"scripts/fancybox/jquery.fancybox.pack.js\" type=\"text/javascript\"></script> <script src=\"scripts/owl-carousel/owl.carousel.min.js\" type=\"text/javascript\"></script> <script src=\"scripts/owl-carousel/custom.js\" type=\"text/javascript\"></script> <script async=\"async\" defer=\"defer\" src=\"//scdn.line-apps.com/n/line_it/thirdparty/loader.min.js\" type=\"text/javascript\"></script> <script type=\"text/javascript\">\n",
      "(function(d,s,id) {\n",
      "  var js, fjs = d.getElementsByTagName(s)[0];\n",
      "  if (d.getElementById(id)) return;\n",
      "  js = d.createElement(s); js.id = id;\n",
      "  js.src = \"//connect.facebook.net/id_ID/sdk.js#xfbml=1&version=v2.5\";\n",
      "  fjs.parentNode.insertBefore(js, fjs);\n",
      "}(document,'script','facebook-jssdk'));\n",
      "!function(d,s,id){var js,fjs=d.getElementsByTagName(s)[0],p=/^http:/.test(d.location)?'http':'https';\n",
      "if(!d.getElementById(id)){js=d.createElement(s);js.id=id;js.src=p+'://platform.twitter.com/widgets.js';\n",
      "fjs.parentNode.insertBefore(js,fjs);}}(document,'script','twitter-wjs');\n",
      "window.___gcfg = {lang: 'id'};\n",
      "(function() {\n",
      "  var po = document.createElement('script'); po.type = 'text/javascript'; po.async = true;\n",
      "  po.src = 'https://apis.google.com/js/platform.js';\n",
      "  var s = document.getElementsByTagName('script')[0]; s.parentNode.insertBefore(po, s);\n",
      "})();\n",
      "</script> <script type=\"text/javascript\">(function(){window['__CF$cv$params']={r:'6db45d71fbfd87f0',m:'4hfhbni7X3mIpfK4P666CdynwRynLaP1w0mm9c8J_2A-1644485911-0-AUCOCJl0ryuCkGw7fevypzPCI4YaIDrfkSJI+maPU7Iziwvt9W+Yhal6xNm4UoZ6CUJcXX0M/kA1tZy9IlG3hxOt7Tv+lEawK63x9pWKTnTPjB3IgvtOIkFBYEOsyMciUzkaJdxek112t73DI9PUcmM=',s:[0xfaf8dd9244,0xc17d2d068b],u:'/cdn-cgi/challenge-platform/h/b'}})();</script></body> </html> \n"
     ]
    }
   ],
   "source": [
    "print(soup)"
   ]
  },
  {
   "cell_type": "code",
   "execution_count": 4,
   "id": "604069a5",
   "metadata": {},
   "outputs": [
    {
     "data": {
      "text/plain": [
       "[<hgroup itemprop=\"name\"> <a href=\"https://modusaceh.co/news/usk-anugrahi-wali-nanggroe-sebagai-tokoh-perdamaian/index.html\" rel=\"bookmark\"> <h5>USK Anugrahi Wali Nanggroe Sebagai Tokoh Perdamaian</h5> </a> </hgroup>,\n",
       " <hgroup itemprop=\"name\"> <a href=\"https://modusaceh.co/news/empat-kapolres-di-aceh-diganti/index.html\" rel=\"bookmark\"> <h5>Empat Kapolres di Aceh Diganti</h5> </a> </hgroup>,\n",
       " <hgroup itemprop=\"name\"> <a href=\"https://modusaceh.co/news/antar-sabu-ke-anaknya-di-penjara-emak-emak-di-langsa-diamankan/index.html\" rel=\"bookmark\"> <h5>Antar Sabu ke Anaknya di Penjara, Emak-emak di Langsa Diamankan</h5> </a> </hgroup>,\n",
       " <hgroup itemprop=\"name\"> <a href=\"https://modusaceh.co/news/partai-demokrat-aceh-tetapkan-13-calon-ketua-dpc/index.html\" rel=\"bookmark\"> <h6>Muscab Serantak Gelombang Pertama</h6> <h5>Partai Demokrat Aceh Tetapkan 13 Calon Ketua DPC</h5> </a> </hgroup>,\n",
       " <hgroup itemprop=\"name\"> <a href=\"https://modusaceh.co/news/dalimi-saya-patuh-atas-keputusan-pimpinan/index.html\" rel=\"bookmark\"> <h6>Dicopot dari Pimpinan DPR Aceh</h6> <h5>Dalimi: Saya Patuh Atas Keputusan Pimpinan</h5> </a> </hgroup>,\n",
       " <hgroup itemprop=\"name\"> <a href=\"https://modusaceh.co/news/upah-belum-dibayar-pt-hk-buruh-proyek-unimal-mogok-kerja/index.html\" rel=\"bookmark\"> <h5>Upah Belum Dibayar PT. HK, Buruh Proyek Unimal Mogok Kerja</h5> </a> </hgroup>,\n",
       " <hgroup itemprop=\"name\"> <a href=\"https://modusaceh.co/news/muslim-ingatkan-kader-untuk-siap-menangkan-pemilu-2024/index.html\" rel=\"bookmark\"> <h6>Buka Muscab 13 DPC Partai Demokrat Aceh</h6> <h5>Muslim Ingatkan Kader Untuk Siap Menangkan Pemilu 2024</h5> </a> </hgroup>,\n",
       " <hgroup itemprop=\"name\"> <a href=\"https://modusaceh.co/news/gemuruh-ahy-presiden-warnai-pembukaan-muscab-demokrat-aceh/index.html\" rel=\"bookmark\"> <h5>Gemuruh \"AHY Presiden\" Warnai Pembukaan Muscab Demokrat Aceh</h5> </a> </hgroup>,\n",
       " <hgroup itemprop=\"name\"> <a href=\"https://modusaceh.co/news/puluhan-mahasiswa-terpapar-corona-usk-aceh-kembali-terapkan-kuliah-daring/index.html\" rel=\"bookmark\"> <h5>Puluhan Mahasiswa Terpapar Corona, USK Aceh Kembali Terapkan Kuliah Daring</h5> </a> </hgroup>,\n",
       " <hgroup itemprop=\"name\"> <a href=\"https://modusaceh.co/news/polda-aceh-serahkan-tersangka-kasus-pengadaan-sapi-disnak-aceh/index.html\" rel=\"bookmark\"> <h5>Polda Aceh Serahkan Tersangka Kasus Pengadaan Sapi Disnak Aceh ke Kejari Jantho</h5> </a> </hgroup>]"
      ]
     },
     "execution_count": 4,
     "metadata": {},
     "output_type": "execute_result"
    }
   ],
   "source": [
    "art=soup.find_all('hgroup')\n",
    "art"
   ]
  },
  {
   "cell_type": "code",
   "execution_count": 5,
   "id": "9d69a9c7",
   "metadata": {},
   "outputs": [
    {
     "data": {
      "text/plain": [
       "10"
      ]
     },
     "execution_count": 5,
     "metadata": {},
     "output_type": "execute_result"
    }
   ],
   "source": [
    "len(art)"
   ]
  },
  {
   "cell_type": "code",
   "execution_count": 6,
   "id": "dc53244d",
   "metadata": {},
   "outputs": [],
   "source": [
    "news=[]\n",
    "for item in art:\n",
    "    item.find(href=True)\n",
    "    news.append(item)"
   ]
  },
  {
   "cell_type": "code",
   "execution_count": 7,
   "id": "fcca2e43",
   "metadata": {},
   "outputs": [
    {
     "name": "stdout",
     "output_type": "stream",
     "text": [
      "[<hgroup itemprop=\"name\"> <a href=\"https://modusaceh.co/news/usk-anugrahi-wali-nanggroe-sebagai-tokoh-perdamaian/index.html\" rel=\"bookmark\"> <h5>USK Anugrahi Wali Nanggroe Sebagai Tokoh Perdamaian</h5> </a> </hgroup>, <hgroup itemprop=\"name\"> <a href=\"https://modusaceh.co/news/empat-kapolres-di-aceh-diganti/index.html\" rel=\"bookmark\"> <h5>Empat Kapolres di Aceh Diganti</h5> </a> </hgroup>, <hgroup itemprop=\"name\"> <a href=\"https://modusaceh.co/news/antar-sabu-ke-anaknya-di-penjara-emak-emak-di-langsa-diamankan/index.html\" rel=\"bookmark\"> <h5>Antar Sabu ke Anaknya di Penjara, Emak-emak di Langsa Diamankan</h5> </a> </hgroup>, <hgroup itemprop=\"name\"> <a href=\"https://modusaceh.co/news/partai-demokrat-aceh-tetapkan-13-calon-ketua-dpc/index.html\" rel=\"bookmark\"> <h6>Muscab Serantak Gelombang Pertama</h6> <h5>Partai Demokrat Aceh Tetapkan 13 Calon Ketua DPC</h5> </a> </hgroup>, <hgroup itemprop=\"name\"> <a href=\"https://modusaceh.co/news/dalimi-saya-patuh-atas-keputusan-pimpinan/index.html\" rel=\"bookmark\"> <h6>Dicopot dari Pimpinan DPR Aceh</h6> <h5>Dalimi: Saya Patuh Atas Keputusan Pimpinan</h5> </a> </hgroup>, <hgroup itemprop=\"name\"> <a href=\"https://modusaceh.co/news/upah-belum-dibayar-pt-hk-buruh-proyek-unimal-mogok-kerja/index.html\" rel=\"bookmark\"> <h5>Upah Belum Dibayar PT. HK, Buruh Proyek Unimal Mogok Kerja</h5> </a> </hgroup>, <hgroup itemprop=\"name\"> <a href=\"https://modusaceh.co/news/muslim-ingatkan-kader-untuk-siap-menangkan-pemilu-2024/index.html\" rel=\"bookmark\"> <h6>Buka Muscab 13 DPC Partai Demokrat Aceh</h6> <h5>Muslim Ingatkan Kader Untuk Siap Menangkan Pemilu 2024</h5> </a> </hgroup>, <hgroup itemprop=\"name\"> <a href=\"https://modusaceh.co/news/gemuruh-ahy-presiden-warnai-pembukaan-muscab-demokrat-aceh/index.html\" rel=\"bookmark\"> <h5>Gemuruh \"AHY Presiden\" Warnai Pembukaan Muscab Demokrat Aceh</h5> </a> </hgroup>, <hgroup itemprop=\"name\"> <a href=\"https://modusaceh.co/news/puluhan-mahasiswa-terpapar-corona-usk-aceh-kembali-terapkan-kuliah-daring/index.html\" rel=\"bookmark\"> <h5>Puluhan Mahasiswa Terpapar Corona, USK Aceh Kembali Terapkan Kuliah Daring</h5> </a> </hgroup>, <hgroup itemprop=\"name\"> <a href=\"https://modusaceh.co/news/polda-aceh-serahkan-tersangka-kasus-pengadaan-sapi-disnak-aceh/index.html\" rel=\"bookmark\"> <h5>Polda Aceh Serahkan Tersangka Kasus Pengadaan Sapi Disnak Aceh ke Kejari Jantho</h5> </a> </hgroup>]\n"
     ]
    }
   ],
   "source": [
    "print(news)"
   ]
  },
  {
   "cell_type": "code",
   "execution_count": 8,
   "id": "5ecdc82a",
   "metadata": {},
   "outputs": [
    {
     "name": "stdout",
     "output_type": "stream",
     "text": [
      "https://modusaceh.co/news/usk-anugrahi-wali-nanggroe-sebagai-tokoh-perdamaian/index.html\n"
     ]
    }
   ],
   "source": [
    "a=news[0].find(href=True)\n",
    "print(a['href'])"
   ]
  },
  {
   "cell_type": "code",
   "execution_count": 9,
   "id": "f19becb9",
   "metadata": {},
   "outputs": [],
   "source": [
    "links=[]\n",
    "for article in news:\n",
    "    links.append(article.find(href=True))    "
   ]
  },
  {
   "cell_type": "code",
   "execution_count": 10,
   "id": "474f7bcd",
   "metadata": {},
   "outputs": [
    {
     "name": "stdout",
     "output_type": "stream",
     "text": [
      "https://modusaceh.co/news/usk-anugrahi-wali-nanggroe-sebagai-tokoh-perdamaian/index.html\n",
      "https://modusaceh.co/news/empat-kapolres-di-aceh-diganti/index.html\n",
      "https://modusaceh.co/news/antar-sabu-ke-anaknya-di-penjara-emak-emak-di-langsa-diamankan/index.html\n",
      "https://modusaceh.co/news/partai-demokrat-aceh-tetapkan-13-calon-ketua-dpc/index.html\n",
      "https://modusaceh.co/news/dalimi-saya-patuh-atas-keputusan-pimpinan/index.html\n",
      "https://modusaceh.co/news/upah-belum-dibayar-pt-hk-buruh-proyek-unimal-mogok-kerja/index.html\n",
      "https://modusaceh.co/news/muslim-ingatkan-kader-untuk-siap-menangkan-pemilu-2024/index.html\n",
      "https://modusaceh.co/news/gemuruh-ahy-presiden-warnai-pembukaan-muscab-demokrat-aceh/index.html\n",
      "https://modusaceh.co/news/puluhan-mahasiswa-terpapar-corona-usk-aceh-kembali-terapkan-kuliah-daring/index.html\n",
      "https://modusaceh.co/news/polda-aceh-serahkan-tersangka-kasus-pengadaan-sapi-disnak-aceh/index.html\n"
     ]
    }
   ],
   "source": [
    "for i in links:\n",
    "    print(i['href'])"
   ]
  },
  {
   "cell_type": "code",
   "execution_count": 11,
   "id": "c7192eb9",
   "metadata": {},
   "outputs": [],
   "source": [
    "listofweb=[]\n",
    "for url in range(1,4):\n",
    "    u='https://modusaceh.co/category/aceh/index'+str(url)+'.html'\n",
    "    requests.get(u)\n",
    "    listofweb.append(u)"
   ]
  },
  {
   "cell_type": "code",
   "execution_count": 12,
   "id": "a586e8bd",
   "metadata": {},
   "outputs": [],
   "source": [
    "listofLinks=[]\n",
    "for page in listofweb:\n",
    "    r=requests.get(page)\n",
    "    soup=BeautifulSoup(r.content, \"lxml\")\n",
    "    art=soup.find_all('hgroup')\n",
    "    for item in art:\n",
    "        news=item.find(href=True)\n",
    "        link= news['href']\n",
    "        listofLinks.append(link)"
   ]
  },
  {
   "cell_type": "code",
   "execution_count": 13,
   "id": "3898bce1",
   "metadata": {},
   "outputs": [
    {
     "data": {
      "text/plain": [
       "['https://modusaceh.co/news/usk-anugrahi-wali-nanggroe-sebagai-tokoh-perdamaian/index.html',\n",
       " 'https://modusaceh.co/news/empat-kapolres-di-aceh-diganti/index.html',\n",
       " 'https://modusaceh.co/news/antar-sabu-ke-anaknya-di-penjara-emak-emak-di-langsa-diamankan/index.html',\n",
       " 'https://modusaceh.co/news/partai-demokrat-aceh-tetapkan-13-calon-ketua-dpc/index.html',\n",
       " 'https://modusaceh.co/news/dalimi-saya-patuh-atas-keputusan-pimpinan/index.html',\n",
       " 'https://modusaceh.co/news/upah-belum-dibayar-pt-hk-buruh-proyek-unimal-mogok-kerja/index.html',\n",
       " 'https://modusaceh.co/news/muslim-ingatkan-kader-untuk-siap-menangkan-pemilu-2024/index.html',\n",
       " 'https://modusaceh.co/news/gemuruh-ahy-presiden-warnai-pembukaan-muscab-demokrat-aceh/index.html',\n",
       " 'https://modusaceh.co/news/puluhan-mahasiswa-terpapar-corona-usk-aceh-kembali-terapkan-kuliah-daring/index.html',\n",
       " 'https://modusaceh.co/news/polda-aceh-serahkan-tersangka-kasus-pengadaan-sapi-disnak-aceh/index.html',\n",
       " 'https://modusaceh.co/news/lima-tahun-rekanan-menanti-pembayaran-dari-direktur-rsj-banda-aceh/index.html',\n",
       " 'https://modusaceh.co/news/polisi-ungkap-2-hektare-ladang-ganja-di-taman-nasional-gunung-leuser/index.html',\n",
       " 'https://modusaceh.co/news/wak-tar-hargai-pengabdian-dan-pengorbanan-laporkan-kader-bentuk-kriminalisasi/index.html',\n",
       " 'https://modusaceh.co/news/terlilit-utang-kades-di-aceh-timur-korupsi-dana-desa-rp-523-juta/index.html',\n",
       " 'https://modusaceh.co/news/teuku-puteh-kembali-terpilih-aklamasi-ketua-mpw-pp-aceh-periode-2022-2027/index.html',\n",
       " 'https://modusaceh.co/news/ampk-bireuen-tolak-pemaksaan-vaksinasi-terhadap-anak-anak/index.html',\n",
       " 'https://modusaceh.co/news/nova-dan-taqwallah-dituding-penyebab-gagalnya-pengentasan-kemiskinan-di-aceh/index.html',\n",
       " 'https://modusaceh.co/news/ketua-mpn-pp-japto-soelistyo-soerjosoemarno-pp-aceh-ambil-peran-maksimal-hadapi-tantangan/index.html',\n",
       " 'https://modusaceh.co/news/terkait-pengajuan-paw-tiyong-dan-rizal-falevi-ketua-kip-aceh-belum-terima-surat-tembusan/index.html',\n",
       " 'https://modusaceh.co/news/rektor-melantik-kajati-aceh-mengukuhkan/index.html',\n",
       " 'https://modusaceh.co/news/sah-ahy-percayakan-ht-ibrahim-gantikan-dalimi/index.html',\n",
       " 'https://modusaceh.co/news/ada-gangguan-awan-comulonimbus-pesawat-garuda-146-gagal-mendarat-di-bandara-sim/index.html',\n",
       " 'https://modusaceh.co/news/terkait-jargas-ibu-ibu-geruduk-gedung-dprk-aceh-timur/index.html',\n",
       " 'https://modusaceh.co/news/jubir-kpk-penyelidikan-masih-terus-dilakukan/index.html',\n",
       " 'https://modusaceh.co/news/diduga-sodomi-santri-guru-ngaji-di-bener-meriah-ditangkap-polisi/index.html',\n",
       " 'https://modusaceh.co/news/pembubaran-bimtek-berbuntut-panjang-polda-aceh-akan-proses-laporan-dpp-pna-irwandi-yusuf/index.html',\n",
       " 'https://modusaceh.co/news/demi-dapatkan-minyak-goreng-warga-langsa-serbu-swalayan/index.html',\n",
       " 'https://modusaceh.co/news/apa-jakarta-desak-kpk-umumkan-hasil-penyelidiakan-di-aceh/index.html',\n",
       " 'https://modusaceh.co/news/demokrat-aceh-gelar-musyawarah-cabang-serentak/index.html',\n",
       " 'https://modusaceh.co/news/bupati-rocky-sambut-19-nelayan-aceh-timur-yang-dibebaskan-thailand/index.html']"
      ]
     },
     "execution_count": 13,
     "metadata": {},
     "output_type": "execute_result"
    }
   ],
   "source": [
    "listofLinks"
   ]
  },
  {
   "cell_type": "code",
   "execution_count": 14,
   "id": "93d138a4",
   "metadata": {},
   "outputs": [
    {
     "data": {
      "text/plain": [
       "30"
      ]
     },
     "execution_count": 14,
     "metadata": {},
     "output_type": "execute_result"
    }
   ],
   "source": [
    "len(listofLinks)"
   ]
  },
  {
   "cell_type": "code",
   "execution_count": 15,
   "id": "5e6f7cf5",
   "metadata": {},
   "outputs": [],
   "source": [
    "title = []\n",
    "thearticle = []\n",
    "for link in listofLinks:    \n",
    "    # store the text for each article\n",
    "    paragraphtext = []    \n",
    "    # get url\n",
    "    url = link\n",
    "    # get page text\n",
    "    page = requests.get(url)\n",
    "    # parse with BFS\n",
    "    soup = BeautifulSoup(page.text, 'html.parser')    \n",
    "    # get article title\n",
    "    thetitle = soup.find('hgroup').text.strip()\n",
    "    # get text\n",
    "    articletext = soup.find_all('p')[:-3]\n",
    "    # print text\n",
    "    for paragraph in articletext:\n",
    "        # get the text only\n",
    "        text = paragraph.get_text()\n",
    "        paragraphtext.append(text)        \n",
    "    # combine all paragraphs into an article\n",
    "    thearticle.append(paragraphtext)\n",
    "    title.append(thetitle)\n",
    "myarticle = [' '.join(article) for article in thearticle]"
   ]
  },
  {
   "cell_type": "code",
   "execution_count": 17,
   "id": "c5e0dfd0",
   "metadata": {},
   "outputs": [
    {
     "data": {
      "text/html": [
       "<div>\n",
       "<style scoped>\n",
       "    .dataframe tbody tr th:only-of-type {\n",
       "        vertical-align: middle;\n",
       "    }\n",
       "\n",
       "    .dataframe tbody tr th {\n",
       "        vertical-align: top;\n",
       "    }\n",
       "\n",
       "    .dataframe thead th {\n",
       "        text-align: right;\n",
       "    }\n",
       "</style>\n",
       "<table border=\"1\" class=\"dataframe\">\n",
       "  <thead>\n",
       "    <tr style=\"text-align: right;\">\n",
       "      <th></th>\n",
       "      <th>Title</th>\n",
       "      <th>Article</th>\n",
       "    </tr>\n",
       "  </thead>\n",
       "  <tbody>\n",
       "    <tr>\n",
       "      <th>0</th>\n",
       "      <td>USK Anugrahi Wali Nanggroe Sebagai Tokoh Perda...</td>\n",
       "      <td>Banda Aceh | Prosesi wisuda Universitas Syiah ...</td>\n",
       "    </tr>\n",
       "    <tr>\n",
       "      <th>1</th>\n",
       "      <td>Empat Kapolres di Aceh Diganti</td>\n",
       "      <td>Banda Aceh | Empat kepala kepolisian resor (Ka...</td>\n",
       "    </tr>\n",
       "    <tr>\n",
       "      <th>2</th>\n",
       "      <td>Antar Sabu ke Anaknya di Penjara, Emak-emak di...</td>\n",
       "      <td>Langsa | Seorang perempuan di Langsa, Aceh, NL...</td>\n",
       "    </tr>\n",
       "    <tr>\n",
       "      <th>3</th>\n",
       "      <td>Muscab Serantak Gelombang Pertama Partai Demok...</td>\n",
       "      <td>Banda Aceh | Musyawarah Cabang (Muscab) Partai...</td>\n",
       "    </tr>\n",
       "    <tr>\n",
       "      <th>4</th>\n",
       "      <td>Dicopot dari Pimpinan DPR Aceh Dalimi: Saya Pa...</td>\n",
       "      <td>Banda Aceh | Anggota Dewan Perwakilan Rakyat (...</td>\n",
       "    </tr>\n",
       "    <tr>\n",
       "      <th>5</th>\n",
       "      <td>Upah Belum Dibayar PT. HK, Buruh Proyek Unimal...</td>\n",
       "      <td>Lhokseumawe | Karena sudah lama bekerja, namun...</td>\n",
       "    </tr>\n",
       "    <tr>\n",
       "      <th>6</th>\n",
       "      <td>Buka Muscab 13 DPC Partai Demokrat Aceh Muslim...</td>\n",
       "      <td>Banda Aceh | Ketua Umum Dewan Pimpinanan Daera...</td>\n",
       "    </tr>\n",
       "    <tr>\n",
       "      <th>7</th>\n",
       "      <td>Gemuruh \"AHY Presiden\" Warnai Pembukaan Muscab...</td>\n",
       "      <td>Banda Aceh | Pelaksanaan Musyawarah 13 Dewan P...</td>\n",
       "    </tr>\n",
       "    <tr>\n",
       "      <th>8</th>\n",
       "      <td>Puluhan Mahasiswa Terpapar Corona, USK Aceh Ke...</td>\n",
       "      <td>Banda Aceh | Puluhan mahasiswa Universitas Syi...</td>\n",
       "    </tr>\n",
       "    <tr>\n",
       "      <th>9</th>\n",
       "      <td>Polda Aceh Serahkan Tersangka Kasus Pengadaan ...</td>\n",
       "      <td>Banda Aceh I Hari ini, Selasa, 8 Februari 2022...</td>\n",
       "    </tr>\n",
       "    <tr>\n",
       "      <th>10</th>\n",
       "      <td>Dari Berharap Hingga Putusan Pengadilan Lima T...</td>\n",
       "      <td>Banda Aceh I Bila setahun menunggu pembayaran ...</td>\n",
       "    </tr>\n",
       "    <tr>\n",
       "      <th>11</th>\n",
       "      <td>Polisi Ungkap 2 Hektare Ladang Ganja di Taman ...</td>\n",
       "      <td>Jakarta | Kepolisian mengungkap ladang ganja s...</td>\n",
       "    </tr>\n",
       "    <tr>\n",
       "      <th>12</th>\n",
       "      <td>Buntut Kisruh PNA Wak Tar: Hargai Pengabdian d...</td>\n",
       "      <td>Banda Aceh I Karut marutnya Partai Nanggroe Ac...</td>\n",
       "    </tr>\n",
       "    <tr>\n",
       "      <th>13</th>\n",
       "      <td>Terlilit Utang, Kades di Aceh Timur Korupsi Da...</td>\n",
       "      <td>Aceh Timur | Seorang kepala desa di Aceh Timur...</td>\n",
       "    </tr>\n",
       "    <tr>\n",
       "      <th>14</th>\n",
       "      <td>Muswil IX Pemuda Pancasila Aceh 2022 Teuku Put...</td>\n",
       "      <td>Banda Aceh | Teuku Juliansyah Darwin atau lebi...</td>\n",
       "    </tr>\n",
       "    <tr>\n",
       "      <th>15</th>\n",
       "      <td>AMPK Bireuen Tolak Pemaksaan Vaksinasi Terhada...</td>\n",
       "      <td>Bireuen | Puluhan masyarakat yang tergabung da...</td>\n",
       "    </tr>\n",
       "    <tr>\n",
       "      <th>16</th>\n",
       "      <td>APAM Tuntut KPK Tetapkan Tersangka Korupsi Nov...</td>\n",
       "      <td>Banda Aceh | Aliansi Pemuda Aceh Menggugat (AP...</td>\n",
       "    </tr>\n",
       "    <tr>\n",
       "      <th>17</th>\n",
       "      <td>Buka Muswil IX PP Aceh 2022 Ketua MPN PP Japto...</td>\n",
       "      <td>Banda Aceh | Ketua Majelis Nasional (MPN), Pem...</td>\n",
       "    </tr>\n",
       "    <tr>\n",
       "      <th>18</th>\n",
       "      <td>Terkait Pengajuan PAW Tiyong dan Rizal Falevi,...</td>\n",
       "      <td>Banda Aceh | Hingga Senin, 7 Februari 2022, Ke...</td>\n",
       "    </tr>\n",
       "    <tr>\n",
       "      <th>19</th>\n",
       "      <td>Pusat Riset Kejaksaan USK Resmi Berdiri Rektor...</td>\n",
       "      <td>Banda Aceh I Rektor Universitas Syiah Kuala (U...</td>\n",
       "    </tr>\n",
       "    <tr>\n",
       "      <th>20</th>\n",
       "      <td>Wakil Ketua DPRA dari Partai Demokrat Berganti...</td>\n",
       "      <td>Banda Aceh I Desas desus adanya pergantian Wak...</td>\n",
       "    </tr>\n",
       "    <tr>\n",
       "      <th>21</th>\n",
       "      <td>Ada Gangguan Awan Comulonimbus, Pesawat Garuda...</td>\n",
       "      <td>Banda Aceh I Pesawat Garuda Indonesia dengan n...</td>\n",
       "    </tr>\n",
       "    <tr>\n",
       "      <th>22</th>\n",
       "      <td>Terkait Jargas, Ibu-Ibu Geruduk Gedung DPRK Ac...</td>\n",
       "      <td>Aceh Timur | Beberapa Ibu-Ibu warga Desa Blang...</td>\n",
       "    </tr>\n",
       "    <tr>\n",
       "      <th>23</th>\n",
       "      <td>Terkait Tuntutan Aliansi Pemuda dan Mahasiswa ...</td>\n",
       "      <td>Banda Aceh I Pelaksana Tugas Juru Bicara Komis...</td>\n",
       "    </tr>\n",
       "    <tr>\n",
       "      <th>24</th>\n",
       "      <td>Diduga Sodomi Santri, Guru Ngaji di Bener Meri...</td>\n",
       "      <td>Bener Meriah | Seorang guru ngaji di salah sat...</td>\n",
       "    </tr>\n",
       "    <tr>\n",
       "      <th>25</th>\n",
       "      <td>Pembubaran Bimtek Berbuntut Panjang, Polda Ace...</td>\n",
       "      <td>Banda Aceh | Kepolisian Daerah (Polda) Aceh te...</td>\n",
       "    </tr>\n",
       "    <tr>\n",
       "      <th>26</th>\n",
       "      <td>Demi Dapatkan Minyak Goreng Warga Langsa Serbu...</td>\n",
       "      <td>Langsa | Untuk mendapatkan minyak goreng denga...</td>\n",
       "    </tr>\n",
       "    <tr>\n",
       "      <th>27</th>\n",
       "      <td>APA Jakarta Desak KPK Umumkan Hasil Penyelidik...</td>\n",
       "      <td>Jakarta |  Massa yang tergabung dalam Aliansi ...</td>\n",
       "    </tr>\n",
       "    <tr>\n",
       "      <th>28</th>\n",
       "      <td>Demokrat Aceh Gelar Musyawarah Cabang Serentak</td>\n",
       "      <td>Banda Aceh | Dewan Pimpinan Daerah (DPD) Parta...</td>\n",
       "    </tr>\n",
       "    <tr>\n",
       "      <th>29</th>\n",
       "      <td>Bupati Rocky Sambut 19 Nelayan Aceh Timur yang...</td>\n",
       "      <td>Aceh Timur | Bupati Aceh Timur H Hasballah Bin...</td>\n",
       "    </tr>\n",
       "  </tbody>\n",
       "</table>\n",
       "</div>"
      ],
      "text/plain": [
       "                                                Title  \\\n",
       "0   USK Anugrahi Wali Nanggroe Sebagai Tokoh Perda...   \n",
       "1                      Empat Kapolres di Aceh Diganti   \n",
       "2   Antar Sabu ke Anaknya di Penjara, Emak-emak di...   \n",
       "3   Muscab Serantak Gelombang Pertama Partai Demok...   \n",
       "4   Dicopot dari Pimpinan DPR Aceh Dalimi: Saya Pa...   \n",
       "5   Upah Belum Dibayar PT. HK, Buruh Proyek Unimal...   \n",
       "6   Buka Muscab 13 DPC Partai Demokrat Aceh Muslim...   \n",
       "7   Gemuruh \"AHY Presiden\" Warnai Pembukaan Muscab...   \n",
       "8   Puluhan Mahasiswa Terpapar Corona, USK Aceh Ke...   \n",
       "9   Polda Aceh Serahkan Tersangka Kasus Pengadaan ...   \n",
       "10  Dari Berharap Hingga Putusan Pengadilan Lima T...   \n",
       "11  Polisi Ungkap 2 Hektare Ladang Ganja di Taman ...   \n",
       "12  Buntut Kisruh PNA Wak Tar: Hargai Pengabdian d...   \n",
       "13  Terlilit Utang, Kades di Aceh Timur Korupsi Da...   \n",
       "14  Muswil IX Pemuda Pancasila Aceh 2022 Teuku Put...   \n",
       "15  AMPK Bireuen Tolak Pemaksaan Vaksinasi Terhada...   \n",
       "16  APAM Tuntut KPK Tetapkan Tersangka Korupsi Nov...   \n",
       "17  Buka Muswil IX PP Aceh 2022 Ketua MPN PP Japto...   \n",
       "18  Terkait Pengajuan PAW Tiyong dan Rizal Falevi,...   \n",
       "19  Pusat Riset Kejaksaan USK Resmi Berdiri Rektor...   \n",
       "20  Wakil Ketua DPRA dari Partai Demokrat Berganti...   \n",
       "21  Ada Gangguan Awan Comulonimbus, Pesawat Garuda...   \n",
       "22  Terkait Jargas, Ibu-Ibu Geruduk Gedung DPRK Ac...   \n",
       "23  Terkait Tuntutan Aliansi Pemuda dan Mahasiswa ...   \n",
       "24  Diduga Sodomi Santri, Guru Ngaji di Bener Meri...   \n",
       "25  Pembubaran Bimtek Berbuntut Panjang, Polda Ace...   \n",
       "26  Demi Dapatkan Minyak Goreng Warga Langsa Serbu...   \n",
       "27  APA Jakarta Desak KPK Umumkan Hasil Penyelidik...   \n",
       "28     Demokrat Aceh Gelar Musyawarah Cabang Serentak   \n",
       "29  Bupati Rocky Sambut 19 Nelayan Aceh Timur yang...   \n",
       "\n",
       "                                              Article  \n",
       "0   Banda Aceh | Prosesi wisuda Universitas Syiah ...  \n",
       "1   Banda Aceh | Empat kepala kepolisian resor (Ka...  \n",
       "2   Langsa | Seorang perempuan di Langsa, Aceh, NL...  \n",
       "3   Banda Aceh | Musyawarah Cabang (Muscab) Partai...  \n",
       "4   Banda Aceh | Anggota Dewan Perwakilan Rakyat (...  \n",
       "5   Lhokseumawe | Karena sudah lama bekerja, namun...  \n",
       "6   Banda Aceh | Ketua Umum Dewan Pimpinanan Daera...  \n",
       "7   Banda Aceh | Pelaksanaan Musyawarah 13 Dewan P...  \n",
       "8   Banda Aceh | Puluhan mahasiswa Universitas Syi...  \n",
       "9   Banda Aceh I Hari ini, Selasa, 8 Februari 2022...  \n",
       "10  Banda Aceh I Bila setahun menunggu pembayaran ...  \n",
       "11  Jakarta | Kepolisian mengungkap ladang ganja s...  \n",
       "12  Banda Aceh I Karut marutnya Partai Nanggroe Ac...  \n",
       "13  Aceh Timur | Seorang kepala desa di Aceh Timur...  \n",
       "14  Banda Aceh | Teuku Juliansyah Darwin atau lebi...  \n",
       "15  Bireuen | Puluhan masyarakat yang tergabung da...  \n",
       "16  Banda Aceh | Aliansi Pemuda Aceh Menggugat (AP...  \n",
       "17  Banda Aceh | Ketua Majelis Nasional (MPN), Pem...  \n",
       "18  Banda Aceh | Hingga Senin, 7 Februari 2022, Ke...  \n",
       "19  Banda Aceh I Rektor Universitas Syiah Kuala (U...  \n",
       "20  Banda Aceh I Desas desus adanya pergantian Wak...  \n",
       "21  Banda Aceh I Pesawat Garuda Indonesia dengan n...  \n",
       "22  Aceh Timur | Beberapa Ibu-Ibu warga Desa Blang...  \n",
       "23  Banda Aceh I Pelaksana Tugas Juru Bicara Komis...  \n",
       "24  Bener Meriah | Seorang guru ngaji di salah sat...  \n",
       "25  Banda Aceh | Kepolisian Daerah (Polda) Aceh te...  \n",
       "26  Langsa | Untuk mendapatkan minyak goreng denga...  \n",
       "27  Jakarta |  Massa yang tergabung dalam Aliansi ...  \n",
       "28  Banda Aceh | Dewan Pimpinan Daerah (DPD) Parta...  \n",
       "29  Aceh Timur | Bupati Aceh Timur H Hasballah Bin...  "
      ]
     },
     "execution_count": 17,
     "metadata": {},
     "output_type": "execute_result"
    }
   ],
   "source": [
    "import pandas as pd\n",
    "import csv\n",
    "data={\n",
    "    'Title' : title,\n",
    "    'Article' : myarticle\n",
    "}\n",
    "df=pd.DataFrame(data)\n",
    "df.to_excel('modus_aceh.xlsx')\n",
    "df"
   ]
  }
 ],
 "metadata": {
  "kernelspec": {
   "display_name": "Python 3",
   "language": "python",
   "name": "python3"
  },
  "language_info": {
   "codemirror_mode": {
    "name": "ipython",
    "version": 3
   },
   "file_extension": ".py",
   "mimetype": "text/x-python",
   "name": "python",
   "nbconvert_exporter": "python",
   "pygments_lexer": "ipython3",
   "version": "3.8.8"
  }
 },
 "nbformat": 4,
 "nbformat_minor": 5
}
